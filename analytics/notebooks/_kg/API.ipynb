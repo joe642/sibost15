{
 "cells": [
  {
   "cell_type": "raw",
   "metadata": {},
   "source": [
    "pip install ariadne && pip install dataclasses && pip install uvicorn"
   ]
  },
  {
   "cell_type": "code",
   "execution_count": 1,
   "metadata": {},
   "outputs": [
    {
     "name": "stderr",
     "output_type": "stream",
     "text": [
      "../../code/api.py:280: DtypeWarning: Columns (11,12) have mixed types. Specify dtype option on import or set low_memory=False.\n",
      "  '../../data'\n",
      "../../code/api.py:280: DtypeWarning: Columns (10,11,12,13,14,16,17,20,21,22,23,24,25,27,30,31,32,33,34,35,36) have mixed types. Specify dtype option on import or set low_memory=False.\n",
      "  '../../data'\n"
     ]
    }
   ],
   "source": [
    "import sys\n",
    "sys.path.insert(0, \"../../code\")\n",
    "\n",
    "import networkx as nx\n",
    "import pandas as pd\n",
    "import numpy as np\n",
    "from matplotlib import pyplot as plt\n",
    "import ariadne as a\n",
    "\n",
    "from datasets import *\n",
    "from api import *"
   ]
  },
  {
   "cell_type": "code",
   "execution_count": 2,
   "metadata": {},
   "outputs": [],
   "source": [
    "def assert_equals(expected, actual):\n",
    "    if (expected == actual):\n",
    "        return True\n",
    "    else:\n",
    "        raise ValueError(\n",
    "            \"Not equal!\\n\\nexpected:\\n%s\\n\\nactual:\\n%s\\n\" % (str(expected), str(actual))\n",
    "        )"
   ]
  },
  {
   "cell_type": "code",
   "execution_count": 3,
   "metadata": {},
   "outputs": [],
   "source": [
    "r = DatasetsResolvers()"
   ]
  },
  {
   "cell_type": "code",
   "execution_count": 4,
   "metadata": {},
   "outputs": [
    {
     "data": {
      "text/plain": [
       "True"
      ]
     },
     "execution_count": 4,
     "metadata": {},
     "output_type": "execute_result"
    }
   ],
   "source": [
    "assert_equals(\n",
    "    Party(\n",
    "        bdp = 'BD0000000B8A',\n",
    "        bic = 'BLNISDKHXXX', \n",
    "        name = 'BLUE NILE MASHREG BANK', \n",
    "        countryCode = 'SD', \n",
    "        countryName = 'SUDAN', \n",
    "        city = 'KHARTOUM'\n",
    "    ),\n",
    "    r._client_party(),\n",
    ")"
   ]
  },
  {
   "cell_type": "code",
   "execution_count": 5,
   "metadata": {},
   "outputs": [
    {
     "data": {
      "text/plain": [
       "True"
      ]
     },
     "execution_count": 5,
     "metadata": {},
     "output_type": "execute_result"
    }
   ],
   "source": [
    "assert_equals(\n",
    "    [\n",
    "        Party(bdp='BD000000005B', bic='ABDIAEADXXX', name='ABU DHABI ISLAMIC BANK', countryCode='AE', countryName='UNITED ARAB EMIRATES', city='ABU DHABI'),\n",
    "        Party(bdp='BD000000ENI3', bic='BOMLAEADXXX', name='MASHREQBANK PSC.', countryCode='AE', countryName='UNITED ARAB EMIRATES', city='DUBAI'),\n",
    "        Party(bdp='BD0000000X93', bic='FIBHBHBMXXX', name='ITHMAAR BANK B.S.C. (C)', countryCode='BH', countryName='BAHRAIN', city='MANAMA'),\n",
    "        Party(bdp='BD0000001W13', bic='TAIQBHBMXXX', name='ARAB INVESTMENT COMPANY, THE', countryCode='BH', countryName='BAHRAIN', city='MANAMA'),\n",
    "        Party(bdp='BD0000000N3V', bic='COBADEFFXXX', name='COMMERZBANK AG', countryCode='DE', countryName='GERMANY', city='FRANKFURT AM MAIN'),\n",
    "        Party(bdp='BD0000001FOP', bic='MSHQGB2LXXX', name='MASHREQ BANK PSC', countryCode='GB', countryName='UNITED KINGDOM', city='LONDON'),\n",
    "        Party(bdp='BD0000001GPC', bic='NCBKSAJEXXX', name='NATIONAL COMMERCIAL BANK, THE', countryCode='SA', countryName='SAUDI ARABIA', city='JEDDAH'),\n",
    "    ],\n",
    "    r._client_banks()\n",
    ")"
   ]
  },
  {
   "cell_type": "code",
   "execution_count": 6,
   "metadata": {},
   "outputs": [
    {
     "data": {
      "text/plain": [
       "True"
      ]
     },
     "execution_count": 6,
     "metadata": {},
     "output_type": "execute_result"
    }
   ],
   "source": [
    "assert_equals(\n",
    "    [\n",
    "        Destination(\n",
    "            party=Party(bdp='BD00000006O3', bic='BBACLBBXXXX', name='BBAC SAL', countryCode='LB', countryName='LEBANON', city='BEIRUT'),\n",
    "            accounts=['0001736803002', np.nan, 'USD 0001 796306-001', '0001 784202 001'],\n",
    "        ),\n",
    "        Destination(\n",
    "            party=Party(bdp='BD0000000HUQ', bic='BSHROMRUXXX', name='SOHAR INTERNATIONAL BANK S.A.O.G', countryCode='OM', countryName='OMAN', city='MUSCAT'),\n",
    "            accounts=[np.nan, '001020088035', '001020088026', '001020087896', '001020097024', '1020038836', '001020068518', '001020035404', '001020058867', '001020074120', '1020058867', '001020092560', '001020093392', '001020076775'],\n",
    "        ),\n",
    "    ],\n",
    "    r._client_destinations(),\n",
    ")"
   ]
  },
  {
   "cell_type": "code",
   "execution_count": 7,
   "metadata": {},
   "outputs": [
    {
     "data": {
      "text/plain": [
       "True"
      ]
     },
     "execution_count": 7,
     "metadata": {},
     "output_type": "execute_result"
    }
   ],
   "source": [
    "assert_equals(\n",
    "    [\n",
    "        'ANYY',\n",
    "        'WHLS',\n",
    "        'COPA',\n",
    "        'TREA',\n",
    "        'FOEX',\n",
    "        'NDLF',\n",
    "        'OPTI',\n",
    "        'DERI',\n",
    "        'MMKT',\n",
    "        'LOAN',\n",
    "        'SECU',\n",
    "        'COLL',\n",
    "        'GUAR',\n",
    "        'COMM',\n",
    "        'LETT',\n",
    "        'TFIN',\n",
    "        'DOCC',\n",
    "        'CASH',\n",
    "    ],\n",
    "    r._asset_categories(),\n",
    ")"
   ]
  },
  {
   "cell_type": "code",
   "execution_count": 9,
   "metadata": {},
   "outputs": [
    {
     "data": {
      "text/plain": [
       "True"
      ]
     },
     "execution_count": 9,
     "metadata": {},
     "output_type": "execute_result"
    }
   ],
   "source": [
    "assert_equals(\n",
    "    StaticData(\n",
    "        origins = [\n",
    "            Party(bdp='BD000000005B', bic='ABDIAEADXXX', name='ABU DHABI ISLAMIC BANK', countryCode='AE', countryName='UNITED ARAB EMIRATES', city='ABU DHABI'),\n",
    "            Party(bdp='BD000000ENI3', bic='BOMLAEADXXX', name='MASHREQBANK PSC.', countryCode='AE', countryName='UNITED ARAB EMIRATES', city='DUBAI'),\n",
    "            Party(bdp='BD0000000X93', bic='FIBHBHBMXXX', name='ITHMAAR BANK B.S.C. (C)', countryCode='BH', countryName='BAHRAIN', city='MANAMA'),\n",
    "            Party(bdp='BD0000001W13', bic='TAIQBHBMXXX', name='ARAB INVESTMENT COMPANY, THE', countryCode='BH', countryName='BAHRAIN', city='MANAMA'),\n",
    "            Party(bdp='BD0000000N3V', bic='COBADEFFXXX', name='COMMERZBANK AG', countryCode='DE', countryName='GERMANY', city='FRANKFURT AM MAIN'),\n",
    "            Party(bdp='BD0000001FOP', bic='MSHQGB2LXXX', name='MASHREQ BANK PSC', countryCode='GB', countryName='UNITED KINGDOM', city='LONDON'),\n",
    "            Party(bdp='BD0000001GPC', bic='NCBKSAJEXXX', name='NATIONAL COMMERCIAL BANK, THE', countryCode='SA', countryName='SAUDI ARABIA', city='JEDDAH'),\n",
    "        ],\n",
    "        destinations = [\n",
    "            Destination(\n",
    "                party=Party(bdp='BD00000006O3', bic='BBACLBBXXXX', name='BBAC SAL', countryCode='LB', countryName='LEBANON', city='BEIRUT'),\n",
    "                accounts=['0001736803002', 'USD 0001 796306-001', '0001 784202 001'],\n",
    "            ),\n",
    "            Destination(\n",
    "                party=Party(bdp='BD0000000HUQ', bic='BSHROMRUXXX', name='SOHAR INTERNATIONAL BANK S.A.O.G', countryCode='OM', countryName='OMAN', city='MUSCAT'),\n",
    "                accounts=['001020088035', '001020088026', '001020087896', '001020097024', '1020038836', '001020068518', '001020035404', '001020058867', '001020074120', '1020058867', '001020092560', '001020093392', '001020076775'],\n",
    "            ),\n",
    "        ],\n",
    "        assetCategories=['ANYY', 'WHLS', 'COPA', 'TREA', 'FOEX', 'NDLF', 'OPTI', 'DERI', 'MMKT', 'LOAN', 'SECU', 'COLL', 'GUAR', 'COMM', 'LETT', 'TFIN', 'DOCC', 'CASH'],\n",
    "    ),\n",
    "    r.staticData(),\n",
    ")"
   ]
  },
  {
   "cell_type": "code",
   "execution_count": null,
   "metadata": {},
   "outputs": [],
   "source": []
  },
  {
   "cell_type": "code",
   "execution_count": null,
   "metadata": {},
   "outputs": [],
   "source": []
  }
 ],
 "metadata": {
  "kernelspec": {
   "display_name": "Python 3",
   "language": "python",
   "name": "python3"
  },
  "language_info": {
   "codemirror_mode": {
    "name": "ipython",
    "version": 3
   },
   "file_extension": ".py",
   "mimetype": "text/x-python",
   "name": "python",
   "nbconvert_exporter": "python",
   "pygments_lexer": "ipython3",
   "version": "3.6.7"
  }
 },
 "nbformat": 4,
 "nbformat_minor": 2
}

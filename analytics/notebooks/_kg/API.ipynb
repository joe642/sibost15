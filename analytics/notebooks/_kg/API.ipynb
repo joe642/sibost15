{
 "cells": [
  {
   "cell_type": "raw",
   "metadata": {},
   "source": [
    "pip install ariadne && pip install dataclasses && pip install uvicorn"
   ]
  },
  {
   "cell_type": "code",
   "execution_count": 1,
   "metadata": {},
   "outputs": [],
   "source": [
    "import sys\n",
    "sys.path.insert(0, \"../../code\")\n",
    "\n",
    "import networkx as nx\n",
    "import pandas as pd\n",
    "import numpy as np\n",
    "from matplotlib import pyplot as plt\n",
    "import ariadne as a\n",
    "\n",
    "from datasets import *\n",
    "from api import *"
   ]
  },
  {
   "cell_type": "code",
   "execution_count": 7,
   "metadata": {},
   "outputs": [
    {
     "data": {
      "text/plain": [
       "100000"
      ]
     },
     "execution_count": 7,
     "metadata": {},
     "output_type": "execute_result"
    }
   ],
   "source": [
    "100_000"
   ]
  },
  {
   "cell_type": "code",
   "execution_count": 2,
   "metadata": {},
   "outputs": [
    {
     "name": "stdout",
     "output_type": "stream",
     "text": [
      "\n",
      "    type Query {\n",
      "        staticData: StaticData!\n",
      "        # routes(payment: Payment): [ Route! ]!\n",
      "        # stats: Stats!\n",
      "    }\n",
      "\n",
      "    type StaticData {\n",
      "        origins: [ Party! ]! # 10-20 options\n",
      "        destinations: [ Destination! ]! # 100-10000 options\n",
      "        assetCategories: [ String! ]!\n",
      "        currency: String!\n",
      "        amount: Float!\n",
      "    }\n",
      "\n",
      "    type Party {\n",
      "         bic: String! # 8chars typically\n",
      "         name: String!\n",
      "         countryCode: String!\n",
      "         countryName: String!\n",
      "         city: String!\n",
      "    }\n",
      "\n",
      "    type Destination {\n",
      "        party: Party!\n",
      "        accounts: [ String! ]!\n",
      "    }\n",
      "\n",
      "    type Payment {\n",
      "        originBic: String!\n",
      "        destinationBic: String!\n",
      "        assetCategory: String!\n",
      "        currency: String!\n",
      "        amount: Float!\n",
      "    }\n",
      "\n",
      "    type Hop {\n",
      "         source: Party!\n",
      "         target: Party!\n",
      "         payment: Payment!\n",
      "         fxRate: Float # optional\n",
      "         timeTakenMinutes: Int!\n",
      "         crossBorder: Boolean!\n",
      "    }\n",
      "\n",
      "    type Route {\n",
      "        originalPayment: Payment!\n",
      "        hops: [ Hop! ]!\n",
      "        risk: RiskLevel!\n",
      "        totalFee: Float\n",
      "        totalTimeMinutes: Int\n",
      "    }\n",
      "    \n",
      "    enum RiskLevel {\n",
      "        LO,\n",
      "        MD,\n",
      "        HI,\n",
      "    } \n",
      "\n",
      "    type Summary {\n",
      "         totalVolume: Float!\n",
      "         averageTimeMinutes: Int!\n",
      "         pctFailures: Float!\n",
      "    }\n",
      "\n",
      "    type Stats {\n",
      "         summary: Summary!\n",
      "         map: [ MapEdge! ]!\n",
      "         opportunities: [ Opportunity! ]!\n",
      "    }\n",
      "\n",
      "    type MapEdge {\n",
      "         sourceCity: String!\n",
      "         targetCity: String!\n",
      "         weight: Float!\n",
      "    }\n",
      "\n",
      "    type Opportunity {\n",
      "         source: Party!\n",
      "         target: Party!\n",
      "         summary: Summary!\n",
      "    }\n",
      "\n"
     ]
    }
   ],
   "source": [
    "print(sdl)"
   ]
  },
  {
   "cell_type": "code",
   "execution_count": null,
   "metadata": {},
   "outputs": [],
   "source": []
  }
 ],
 "metadata": {
  "kernelspec": {
   "display_name": "Python 3",
   "language": "python",
   "name": "python3"
  },
  "language_info": {
   "codemirror_mode": {
    "name": "ipython",
    "version": 3
   },
   "file_extension": ".py",
   "mimetype": "text/x-python",
   "name": "python",
   "nbconvert_exporter": "python",
   "pygments_lexer": "ipython3",
   "version": "3.6.7"
  }
 },
 "nbformat": 4,
 "nbformat_minor": 2
}

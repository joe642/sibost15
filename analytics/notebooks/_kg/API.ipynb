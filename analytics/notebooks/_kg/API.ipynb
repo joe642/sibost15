{
 "cells": [
  {
   "cell_type": "raw",
   "metadata": {},
   "source": [
    "pip install ariadne && pip install dataclasses && pip install uvicorn"
   ]
  },
  {
   "cell_type": "code",
   "execution_count": 1,
   "metadata": {},
   "outputs": [],
   "source": [
    "import sys\n",
    "sys.path.insert(0, \"../../code\")"
   ]
  },
  {
   "cell_type": "code",
   "execution_count": 2,
   "metadata": {},
   "outputs": [
    {
     "name": "stdout",
     "output_type": "stream",
     "text": [
      "reading TSV: ../../data/raw/gcp/datasets/StandingSettlementInstructions/SSIPLUS_V3_MONTHLY_FULL_20200828.txt\n"
     ]
    },
    {
     "name": "stderr",
     "output_type": "stream",
     "text": [
      "../../code/api.py:255: DtypeWarning: Columns (11,12) have mixed types. Specify dtype option on import or set low_memory=False.\n",
      "  num_payments = _num_payments,\n"
     ]
    },
    {
     "name": "stdout",
     "output_type": "stream",
     "text": [
      "reading TSV: ../../data/raw/gcp/datasets/StandingSettlementInstructions/BANKDIRECTORYPLUS_V3_FULL_20200828.txt\n"
     ]
    },
    {
     "name": "stderr",
     "output_type": "stream",
     "text": [
      "../../code/api.py:255: DtypeWarning: Columns (10,11,12,13,14,16,17,20,21,22,23,24,25,27,30,31,32,33,34,35,36) have mixed types. Specify dtype option on import or set low_memory=False.\n",
      "  num_payments = _num_payments,\n"
     ]
    }
   ],
   "source": [
    "import networkx as nx\n",
    "import pandas as pd\n",
    "import numpy as np\n",
    "import random\n",
    "from matplotlib import pyplot as plt\n",
    "import ariadne as a\n",
    "\n",
    "from datasets import *\n",
    "from api import *\n",
    "from temporary_generator import *"
   ]
  },
  {
   "cell_type": "code",
   "execution_count": 3,
   "metadata": {},
   "outputs": [],
   "source": [
    "def assert_equals(expected, actual):\n",
    "    if (expected == actual):\n",
    "        return True\n",
    "    else:\n",
    "        raise ValueError(\n",
    "            \"Not equal!\\n\\nexpected:\\n%s\\n\\nactual:\\n%s\\n\" % (str(expected), str(actual))\n",
    "        )"
   ]
  },
  {
   "cell_type": "markdown",
   "metadata": {},
   "source": [
    "### Resolvers"
   ]
  },
  {
   "cell_type": "code",
   "execution_count": 4,
   "metadata": {},
   "outputs": [],
   "source": [
    "r = DatasetsResolvers()"
   ]
  },
  {
   "cell_type": "code",
   "execution_count": 5,
   "metadata": {},
   "outputs": [
    {
     "data": {
      "text/plain": [
       "True"
      ]
     },
     "execution_count": 5,
     "metadata": {},
     "output_type": "execute_result"
    }
   ],
   "source": [
    "assert_equals(\n",
    "    Party(\n",
    "        bdp = \"BD_CLIENT_Z2\",\n",
    "        bic = \"BDABLABX840\",\n",
    "        name = \"Z2 Corp.\",\n",
    "        countryCode = \"SG\",\n",
    "        countryName = \"United Kingdom\",\n",
    "        city = \"London\",\n",
    "    ),\n",
    "    r._client_party(),\n",
    ")"
   ]
  },
  {
   "cell_type": "code",
   "execution_count": 6,
   "metadata": {},
   "outputs": [
    {
     "data": {
      "text/plain": [
       "True"
      ]
     },
     "execution_count": 6,
     "metadata": {},
     "output_type": "execute_result"
    }
   ],
   "source": [
    "assert_equals(\n",
    "    [\n",
    "        Party(bdp='BD0000001QJP', bic='RZOOAT2L455', name='Raiffeisenbank Region Schaerding eGen', countryCode='AT', countryName='AUSTRIA', city='Schaerding'),\n",
    "        Party(bdp='BD000000RYHO', bic='BINHCN2NXXX', name='NINGBO COMMERCE BANK', countryCode='CN', countryName='CHINA', city='NINGBO'),\n",
    "        Party(bdp='BD0000001H96', bic='NOLADE21STK', name='KREISSPARKASSE STADE', countryCode='DE', countryName='GERMANY', city='STADE'),\n",
    "        Party(bdp='BD0000000CD2', bic='BNPADZALXXX', name='BNP PARIBAS EL DJAZAIR', countryCode='DZ', countryName='ALGERIA', city='ALGIERS'),\n",
    "        Party(bdp='BD000000EVYD', bic='HNBKTWTP601', name='HUA NAN COMMERCIAL BANK, LTD.', countryCode='TW', countryName='TAIWAN', city='CHAI YI'),\n",
    "    ],\n",
    "    r._client_banks()\n",
    ")"
   ]
  },
  {
   "cell_type": "code",
   "execution_count": 7,
   "metadata": {},
   "outputs": [
    {
     "data": {
      "text/plain": [
       "True"
      ]
     },
     "execution_count": 7,
     "metadata": {},
     "output_type": "execute_result"
    }
   ],
   "source": [
    "assert_equals(\n",
    "    [\n",
    "        Destination(\n",
    "            party=Party(bdp='BD00000006O3', bic='BBACLBBXXXX', name='BBAC SAL', countryCode='LB', countryName='LEBANON', city='BEIRUT'),\n",
    "            accounts=['0001736803002', 'USD 0001 796306-001', '0001 784202 001'],\n",
    "        ),\n",
    "        Destination(\n",
    "            party=Party(bdp='BD0000000HUQ', bic='BSHROMRUXXX', name='SOHAR INTERNATIONAL BANK S.A.O.G', countryCode='OM', countryName='OMAN', city='MUSCAT'),\n",
    "            accounts=['001020088035', '001020088026', '001020087896', '001020097024', '1020038836', '001020068518', '001020035404', '001020058867', '001020074120', '1020058867', '001020092560', '001020093392', '001020076775'],\n",
    "        ),\n",
    "    ],\n",
    "    r._client_destinations(),\n",
    ")"
   ]
  },
  {
   "cell_type": "code",
   "execution_count": 8,
   "metadata": {},
   "outputs": [
    {
     "data": {
      "text/plain": [
       "True"
      ]
     },
     "execution_count": 8,
     "metadata": {},
     "output_type": "execute_result"
    }
   ],
   "source": [
    "assert_equals(\n",
    "    [\n",
    "        'ANYY',\n",
    "        'WHLS',\n",
    "        'COPA',\n",
    "        'TREA',\n",
    "        'FOEX',\n",
    "        'NDLF',\n",
    "        'OPTI',\n",
    "        'DERI',\n",
    "        'MMKT',\n",
    "        'LOAN',\n",
    "        'SECU',\n",
    "        'COLL',\n",
    "        'GUAR',\n",
    "        'COMM',\n",
    "        'LETT',\n",
    "        'TFIN',\n",
    "        'DOCC',\n",
    "        'CASH',\n",
    "    ],\n",
    "    r._asset_categories(),\n",
    ")"
   ]
  },
  {
   "cell_type": "code",
   "execution_count": 9,
   "metadata": {},
   "outputs": [
    {
     "data": {
      "text/plain": [
       "True"
      ]
     },
     "execution_count": 9,
     "metadata": {},
     "output_type": "execute_result"
    }
   ],
   "source": [
    "assert_equals(\n",
    "    StaticData(\n",
    "        origins = [\n",
    "            Party(bdp='BD0000001QJP', bic='RZOOAT2L455', name='Raiffeisenbank Region Schaerding eGen', countryCode='AT', countryName='AUSTRIA', city='Schaerding'),\n",
    "            Party(bdp='BD000000RYHO', bic='BINHCN2NXXX', name='NINGBO COMMERCE BANK', countryCode='CN', countryName='CHINA', city='NINGBO'),\n",
    "            Party(bdp='BD0000001H96', bic='NOLADE21STK', name='KREISSPARKASSE STADE', countryCode='DE', countryName='GERMANY', city='STADE'),\n",
    "            Party(bdp='BD0000000CD2', bic='BNPADZALXXX', name='BNP PARIBAS EL DJAZAIR', countryCode='DZ', countryName='ALGERIA', city='ALGIERS'),\n",
    "            Party(bdp='BD000000EVYD', bic='HNBKTWTP601', name='HUA NAN COMMERCIAL BANK, LTD.', countryCode='TW', countryName='TAIWAN', city='CHAI YI'),\n",
    "        ],\n",
    "        destinations = [\n",
    "            Destination(\n",
    "                party=Party(bdp='BD00000006O3', bic='BBACLBBXXXX', name='BBAC SAL', countryCode='LB', countryName='LEBANON', city='BEIRUT'),\n",
    "                accounts=['0001736803002', 'USD 0001 796306-001', '0001 784202 001'],\n",
    "            ),\n",
    "            Destination(\n",
    "                party=Party(bdp='BD0000000HUQ', bic='BSHROMRUXXX', name='SOHAR INTERNATIONAL BANK S.A.O.G', countryCode='OM', countryName='OMAN', city='MUSCAT'),\n",
    "                accounts=['001020088035', '001020088026', '001020087896', '001020097024', '1020038836', '001020068518', '001020035404', '001020058867', '001020074120', '1020058867', '001020092560', '001020093392', '001020076775'],\n",
    "            ),\n",
    "        ],\n",
    "        assetCategories=['ANYY', 'WHLS', 'COPA', 'TREA', 'FOEX', 'NDLF', 'OPTI', 'DERI', 'MMKT', 'LOAN', 'SECU', 'COLL', 'GUAR', 'COMM', 'LETT', 'TFIN', 'DOCC', 'CASH'],\n",
    "    ),\n",
    "    r.staticData(),\n",
    ")"
   ]
  },
  {
   "cell_type": "code",
   "execution_count": 10,
   "metadata": {},
   "outputs": [
    {
     "data": {
      "text/plain": [
       "True"
      ]
     },
     "execution_count": 10,
     "metadata": {},
     "output_type": "execute_result"
    }
   ],
   "source": [
    "assert_equals(\n",
    "    [\n",
    "        Payment(originBic='BD000000RYHO', destinationBic='BD0000000HUQ', assetCategory='DERI', currency='CHF', amount=2128525),\n",
    "        Payment(originBic='BD0000001QJP', destinationBic='BD0000000HUQ', assetCategory='GUAR', currency='NZD', amount=343442),\n",
    "        Payment(originBic='BD000000EVYD', destinationBic='BD00000006O3', assetCategory='LOAN', currency='EUR', amount=1374073),\n",
    "        Payment(originBic='BD0000001QJP', destinationBic='BD0000000HUQ', assetCategory='DOCC', currency='JPY', amount=350662),\n",
    "        Payment(originBic='BD0000001H96', destinationBic='BD0000000HUQ', assetCategory='COMM', currency='NZD', amount=652946),\n",
    "        Payment(originBic='BD0000001H96', destinationBic='BD00000005G6', assetCategory='FOEX', currency='GBP', amount=1216130),\n",
    "        Payment(originBic='BD000000EVYD', destinationBic='BD00000005G6', assetCategory='COPA', currency='EUR', amount=780335),\n",
    "        Payment(originBic='BD000000EVYD', destinationBic='BD00000006O3', assetCategory='TREA', currency='CHF', amount=779841),\n",
    "        Payment(originBic='BD000000EVYD', destinationBic='BD0000000HUQ', assetCategory='LOAN', currency='CHF', amount=978510),\n",
    "        Payment(originBic='BD000000RYHO', destinationBic='BD00000005G6', assetCategory='SECU', currency='NZD', amount=1459874),\n",
    "    ],\n",
    "    r.payments(),\n",
    ")"
   ]
  },
  {
   "cell_type": "code",
   "execution_count": 11,
   "metadata": {},
   "outputs": [
    {
     "data": {
      "text/plain": [
       "True"
      ]
     },
     "execution_count": 11,
     "metadata": {},
     "output_type": "execute_result"
    }
   ],
   "source": [
    "g = TemporaryGenerator()\n",
    "pmt = g.generate_payment()\n",
    "assert_equals(\n",
    "    Route(\n",
    "        originalPayment=Payment(originBic='BD_CLIENT_Z2', destinationBic='BD00000005G6', assetCategory='DERI', currency='AUD', amount=3612529),\n",
    "        hops=[\n",
    "            Hop(source='BD_CLIENT_Z2', target='BD0000000CD2', \n",
    "                payment=Payment(originBic='BD_CLIENT_Z2', destinationBic='BD0000000CD2', assetCategory='DERI', currency='USD', amount=8677240), \n",
    "                fxRate=2.40234609000285, timeTakenMinutes=693, crossBorder=True, charge=543), \n",
    "            Hop(source='BD0000000CD2', target='BD0000001Y1B', \n",
    "                payment=Payment(originBic='BD0000000CD2', destinationBic='BD0000001Y1B', assetCategory='DERI', currency='CHF', amount=3514384), \n",
    "                fxRate=0.9731305537256456, timeTakenMinutes=1897, crossBorder=True, charge=1108), \n",
    "            Hop(source='BD0000001Y1B', target='BD0000000L5T', \n",
    "                payment=Payment(originBic='BD0000001Y1B', destinationBic='BD0000000L5T', assetCategory='DERI', currency='CHF', amount=6782627), \n",
    "                fxRate=1.8776255361186642, timeTakenMinutes=1697, crossBorder=True, charge=186), \n",
    "            Hop(source='BD0000000L5T', target='BD00000005G6', \n",
    "                payment=Payment(originBic='BD0000000L5T', destinationBic='BD00000005G6', assetCategory='DERI', currency='GBP', amount=8235835), \n",
    "                fxRate=2.2804016207635724, timeTakenMinutes=325, crossBorder=True, charge=957)\n",
    "        ], risk='LO', totalFee=2794, totalTimeMinutes=4612\n",
    "    ),\n",
    "    g.generate_route(\n",
    "        pmt,\n",
    "        r._d.with_client_ssi_nx,\n",
    "        pmt.originBic,\n",
    "        pmt.destinationBic\n",
    "    )\n",
    ")"
   ]
  },
  {
   "cell_type": "markdown",
   "metadata": {},
   "source": [
    "### Generator"
   ]
  },
  {
   "cell_type": "code",
   "execution_count": 12,
   "metadata": {},
   "outputs": [],
   "source": [
    "rnd = random.Random(100500)"
   ]
  },
  {
   "cell_type": "code",
   "execution_count": 13,
   "metadata": {},
   "outputs": [],
   "source": [
    "g = TemporaryGenerator()"
   ]
  },
  {
   "cell_type": "code",
   "execution_count": 14,
   "metadata": {},
   "outputs": [],
   "source": [
    "pmt = g.generate_payment()"
   ]
  },
  {
   "cell_type": "code",
   "execution_count": 15,
   "metadata": {},
   "outputs": [
    {
     "name": "stdout",
     "output_type": "stream",
     "text": [
      "['BD0000000CD2', 'BD0000001Y1B', 'BD0000000L5T']\n",
      "17707\n",
      "17704\n",
      "['BD0000001H96', 'BD0000001H9P', 'BD000000A2GQ']\n",
      "17704\n",
      "17701\n",
      "['BD0000001QJP', 'BD0000001QG0', 'BD0000001SDA']\n",
      "17701\n",
      "17698\n",
      "['BD000000RYHO', 'BD0000000TPA', 'BD0000000BH7']\n",
      "17698\n",
      "17695\n",
      "['BD000000EVYD', 'BD000000NILL', 'BD0000002GEE', 'BD000000ENI3']\n",
      "17695\n",
      "17691\n"
     ]
    },
    {
     "data": {
      "text/plain": [
       "[Route(originalPayment=Payment(originBic='BD_CLIENT_Z2', destinationBic='BD00000005G6', assetCategory='DERI', currency='AUD', amount=3612529), hops=[Hop(source='BD_CLIENT_Z2', target='BD0000000CD2', payment=Payment(originBic='BD_CLIENT_Z2', destinationBic='BD0000000CD2', assetCategory='DERI', currency='USD', amount=5007470), fxRate=1.3865285963132599, timeTakenMinutes=52, crossBorder=True, charge=1013), Hop(source='BD0000000CD2', target='BD0000001Y1B', payment=Payment(originBic='BD0000000CD2', destinationBic='BD0000001Y1B', assetCategory='DERI', currency='CHF', amount=8843128), fxRate=2.4483258582008744, timeTakenMinutes=2122, crossBorder=True, charge=621), Hop(source='BD0000001Y1B', target='BD0000000L5T', payment=Payment(originBic='BD0000001Y1B', destinationBic='BD0000000L5T', assetCategory='DERI', currency='CHF', amount=6889101), fxRate=1.9071236279478423, timeTakenMinutes=506, crossBorder=True, charge=230), Hop(source='BD0000000L5T', target='BD00000005G6', payment=Payment(originBic='BD0000000L5T', destinationBic='BD00000005G6', assetCategory='DERI', currency='GBP', amount=1949063), fxRate=0.5396633878683146, timeTakenMinutes=83, crossBorder=True, charge=901)], risk='LO', totalFee=2765, totalTimeMinutes=2763),\n",
       " Route(originalPayment=Payment(originBic='BD_CLIENT_Z2', destinationBic='BD00000005G6', assetCategory='DERI', currency='AUD', amount=3612529), hops=[Hop(source='BD_CLIENT_Z2', target='BD0000001H96', payment=Payment(originBic='BD_CLIENT_Z2', destinationBic='BD0000001H96', assetCategory='DERI', currency='GBP', amount=6531011), fxRate=1.8080961617716502, timeTakenMinutes=2028, crossBorder=True, charge=436), Hop(source='BD0000001H96', target='BD0000001H9P', payment=Payment(originBic='BD0000001H96', destinationBic='BD0000001H9P', assetCategory='DERI', currency='EUR', amount=2231980), fxRate=0.6180004291843832, timeTakenMinutes=179, crossBorder=False, charge=913), Hop(source='BD0000001H9P', target='BD000000A2GQ', payment=Payment(originBic='BD0000001H9P', destinationBic='BD000000A2GQ', assetCategory='DERI', currency='USD', amount=3322790), fxRate=0.9200476458010085, timeTakenMinutes=1368, crossBorder=True, charge=988), Hop(source='BD000000A2GQ', target='BD00000005G6', payment=Payment(originBic='BD000000A2GQ', destinationBic='BD00000005G6', assetCategory='DERI', currency='USD', amount=5478233), fxRate=1.5165898255985681, timeTakenMinutes=547, crossBorder=True, charge=324)], risk='LO', totalFee=2661, totalTimeMinutes=4122),\n",
       " Route(originalPayment=Payment(originBic='BD_CLIENT_Z2', destinationBic='BD00000005G6', assetCategory='DERI', currency='AUD', amount=3612529), hops=[Hop(source='BD_CLIENT_Z2', target='BD0000001QJP', payment=Payment(originBic='BD_CLIENT_Z2', destinationBic='BD0000001QJP', assetCategory='DERI', currency='CAD', amount=5921523), fxRate=1.6394898994826348, timeTakenMinutes=119, crossBorder=True, charge=721), Hop(source='BD0000001QJP', target='BD0000001QG0', payment=Payment(originBic='BD0000001QJP', destinationBic='BD0000001QG0', assetCategory='DERI', currency='TRY', amount=6039839), fxRate=1.6724217320926809, timeTakenMinutes=1093, crossBorder=False, charge=1096), Hop(source='BD0000001QG0', target='BD0000001SDA', payment=Payment(originBic='BD0000001QG0', destinationBic='BD0000001SDA', assetCategory='DERI', currency='USD', amount=3126765), fxRate=0.8657625629068124, timeTakenMinutes=1599, crossBorder=True, charge=956), Hop(source='BD0000001SDA', target='BD00000005G6', payment=Payment(originBic='BD0000001SDA', destinationBic='BD00000005G6', assetCategory='DERI', currency='USD', amount=4219743), fxRate=1.1683336078310789, timeTakenMinutes=501, crossBorder=True, charge=767)], risk='MD', totalFee=3540, totalTimeMinutes=3312),\n",
       " Route(originalPayment=Payment(originBic='BD_CLIENT_Z2', destinationBic='BD00000005G6', assetCategory='DERI', currency='AUD', amount=3612529), hops=[Hop(source='BD_CLIENT_Z2', target='BD000000RYHO', payment=Payment(originBic='BD_CLIENT_Z2', destinationBic='BD000000RYHO', assetCategory='DERI', currency='SEK', amount=7179545), fxRate=1.9875954384263197, timeTakenMinutes=1255, crossBorder=True, charge=353), Hop(source='BD000000RYHO', target='BD0000000TPA', payment=Payment(originBic='BD000000RYHO', destinationBic='BD0000000TPA', assetCategory='DERI', currency='EUR', amount=2643747), fxRate=0.73206883109116, timeTakenMinutes=1787, crossBorder=True, charge=1193), Hop(source='BD0000000TPA', target='BD0000000BH7', payment=Payment(originBic='BD0000000TPA', destinationBic='BD0000000BH7', assetCategory='DERI', currency='OMR', amount=3392419), fxRate=0.9391711315680884, timeTakenMinutes=692, crossBorder=True, charge=387), Hop(source='BD0000000BH7', target='BD00000005G6', payment=Payment(originBic='BD0000000BH7', destinationBic='BD00000005G6', assetCategory='DERI', currency='OMR', amount=7056877), fxRate=1.9536234365687468, timeTakenMinutes=1450, crossBorder=True, charge=330)], risk='LO', totalFee=2263, totalTimeMinutes=5184),\n",
       " Route(originalPayment=Payment(originBic='BD_CLIENT_Z2', destinationBic='BD00000005G6', assetCategory='DERI', currency='AUD', amount=3612529), hops=[Hop(source='BD_CLIENT_Z2', target='BD000000EVYD', payment=Payment(originBic='BD_CLIENT_Z2', destinationBic='BD000000EVYD', assetCategory='DERI', currency='NOK', amount=3608962), fxRate=0.9992749604577236, timeTakenMinutes=2037, crossBorder=True, charge=948), Hop(source='BD000000EVYD', target='BD000000NILL', payment=Payment(originBic='BD000000EVYD', destinationBic='BD000000NILL', assetCategory='DERI', currency='ZAR', amount=6044670), fxRate=1.673532891035656, timeTakenMinutes=1857, crossBorder=False, charge=607), Hop(source='BD000000NILL', target='BD0000002GEE', payment=Payment(originBic='BD000000NILL', destinationBic='BD0000002GEE', assetCategory='DERI', currency='AUD', amount=3611929), fxRate=1.0, timeTakenMinutes=1375, crossBorder=True, charge=600), Hop(source='BD0000002GEE', target='BD000000ENI3', payment=Payment(originBic='BD0000002GEE', destinationBic='BD000000ENI3', assetCategory='DERI', currency='AUD', amount=3611840), fxRate=1.0, timeTakenMinutes=842, crossBorder=True, charge=689), Hop(source='BD000000ENI3', target='BD00000005G6', payment=Payment(originBic='BD000000ENI3', destinationBic='BD00000005G6', assetCategory='DERI', currency='CAD', amount=5877576), fxRate=1.6273035879533762, timeTakenMinutes=104, crossBorder=True, charge=679)], risk='MD', totalFee=3523, totalTimeMinutes=6215)]"
      ]
     },
     "execution_count": 15,
     "metadata": {},
     "output_type": "execute_result"
    }
   ],
   "source": [
    "r._d.generate_routes(pmt)"
   ]
  },
  {
   "cell_type": "code",
   "execution_count": 16,
   "metadata": {},
   "outputs": [
    {
     "data": {
      "text/plain": [
       "Payment(originBic='BD_CLIENT_Z2', destinationBic='BD00000005G6', assetCategory='DERI', currency='AUD', amount=3612529)"
      ]
     },
     "execution_count": 16,
     "metadata": {},
     "output_type": "execute_result"
    }
   ],
   "source": [
    "pmt"
   ]
  },
  {
   "cell_type": "code",
   "execution_count": null,
   "metadata": {},
   "outputs": [],
   "source": [
    "nx.restricted_view()"
   ]
  },
  {
   "cell_type": "code",
   "execution_count": 29,
   "metadata": {},
   "outputs": [
    {
     "data": {
      "text/plain": [
       "[0, 1, 2, 3, 4, 5, 6, 7, 8, 9]"
      ]
     },
     "execution_count": 29,
     "metadata": {},
     "output_type": "execute_result"
    }
   ],
   "source": []
  },
  {
   "cell_type": "code",
   "execution_count": null,
   "metadata": {},
   "outputs": [],
   "source": [
    "flat_list = [item for sublist in l for item in sublist]"
   ]
  }
 ],
 "metadata": {
  "kernelspec": {
   "display_name": "Python 3",
   "language": "python",
   "name": "python3"
  },
  "language_info": {
   "codemirror_mode": {
    "name": "ipython",
    "version": 3
   },
   "file_extension": ".py",
   "mimetype": "text/x-python",
   "name": "python",
   "nbconvert_exporter": "python",
   "pygments_lexer": "ipython3",
   "version": "3.6.7"
  }
 },
 "nbformat": 4,
 "nbformat_minor": 2
}

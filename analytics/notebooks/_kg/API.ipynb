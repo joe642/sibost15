{
 "cells": [
  {
   "cell_type": "raw",
   "metadata": {},
   "source": [
    "pip install ariadne && pip install dataclasses && pip install uvicorn"
   ]
  },
  {
   "cell_type": "code",
   "execution_count": 1,
   "metadata": {},
   "outputs": [],
   "source": [
    "import sys\n",
    "sys.path.insert(0, \"../../code\")"
   ]
  },
  {
   "cell_type": "code",
   "execution_count": 2,
   "metadata": {},
   "outputs": [
    {
     "name": "stdout",
     "output_type": "stream",
     "text": [
      "reading TSV: ../../data/raw/gcp/datasets/StandingSettlementInstructions/SSIPLUS_V3_MONTHLY_FULL_20200828.txt\n"
     ]
    },
    {
     "name": "stderr",
     "output_type": "stream",
     "text": [
      "../../code/api.py:257: DtypeWarning: Columns (11,12) have mixed types. Specify dtype option on import or set low_memory=False.\n",
      "  num_payments = _num_payments,\n"
     ]
    },
    {
     "name": "stdout",
     "output_type": "stream",
     "text": [
      "reading TSV: ../../data/raw/gcp/datasets/StandingSettlementInstructions/BANKDIRECTORYPLUS_V3_FULL_20200828.txt\n"
     ]
    },
    {
     "name": "stderr",
     "output_type": "stream",
     "text": [
      "../../code/api.py:257: DtypeWarning: Columns (10,11,12,13,14,16,17,20,21,22,23,24,25,27,30,31,32,33,34,35,36) have mixed types. Specify dtype option on import or set low_memory=False.\n",
      "  num_payments = _num_payments,\n"
     ]
    }
   ],
   "source": [
    "import networkx as nx\n",
    "import pandas as pd\n",
    "import numpy as np\n",
    "import random\n",
    "from matplotlib import pyplot as plt\n",
    "import ariadne as a\n",
    "\n",
    "from datasets import *\n",
    "from api import *\n",
    "from temporary_generator import *"
   ]
  },
  {
   "cell_type": "code",
   "execution_count": 3,
   "metadata": {},
   "outputs": [],
   "source": [
    "def assert_equals(expected, actual):\n",
    "    if (expected == actual):\n",
    "        return True\n",
    "    else:\n",
    "        raise ValueError(\n",
    "            \"Not equal!\\n\\nexpected:\\n%s\\n\\nactual:\\n%s\\n\" % (str(expected), str(actual))\n",
    "        )"
   ]
  },
  {
   "cell_type": "markdown",
   "metadata": {},
   "source": [
    "### Resolvers"
   ]
  },
  {
   "cell_type": "code",
   "execution_count": 4,
   "metadata": {},
   "outputs": [],
   "source": [
    "r = DatasetsResolvers()"
   ]
  },
  {
   "cell_type": "code",
   "execution_count": 5,
   "metadata": {},
   "outputs": [
    {
     "data": {
      "text/plain": [
       "True"
      ]
     },
     "execution_count": 5,
     "metadata": {},
     "output_type": "execute_result"
    }
   ],
   "source": [
    "assert_equals(\n",
    "    Party(\n",
    "        bdp = \"BD_CLIENT_Z2\",\n",
    "        bic = \"BDABLABX840\",\n",
    "        name = \"Z2 Corp.\",\n",
    "        countryCode = \"SG\",\n",
    "        countryName = \"United Kingdom\",\n",
    "        city = \"London\",\n",
    "    ),\n",
    "    r._client_party(),\n",
    ")"
   ]
  },
  {
   "cell_type": "code",
   "execution_count": 6,
   "metadata": {},
   "outputs": [
    {
     "data": {
      "text/plain": [
       "True"
      ]
     },
     "execution_count": 6,
     "metadata": {},
     "output_type": "execute_result"
    }
   ],
   "source": [
    "assert_equals(\n",
    "    [\n",
    "        Party(bdp='BD0000001QJP', bic='RZOOAT2L455', name='Raiffeisenbank Region Schaerding eGen', countryCode='AT', countryName='AUSTRIA', city='Schaerding'),\n",
    "        Party(bdp='BD000000RYHO', bic='BINHCN2NXXX', name='NINGBO COMMERCE BANK', countryCode='CN', countryName='CHINA', city='NINGBO'),\n",
    "        Party(bdp='BD0000001H96', bic='NOLADE21STK', name='KREISSPARKASSE STADE', countryCode='DE', countryName='GERMANY', city='STADE'),\n",
    "        Party(bdp='BD0000000CD2', bic='BNPADZALXXX', name='BNP PARIBAS EL DJAZAIR', countryCode='DZ', countryName='ALGERIA', city='ALGIERS'),\n",
    "        Party(bdp='BD000000EVYD', bic='HNBKTWTP601', name='HUA NAN COMMERCIAL BANK, LTD.', countryCode='TW', countryName='TAIWAN', city='CHAI YI'),\n",
    "    ],\n",
    "    r._client_banks()\n",
    ")"
   ]
  },
  {
   "cell_type": "code",
   "execution_count": 7,
   "metadata": {},
   "outputs": [
    {
     "data": {
      "text/plain": [
       "True"
      ]
     },
     "execution_count": 7,
     "metadata": {},
     "output_type": "execute_result"
    }
   ],
   "source": [
    "assert_equals(\n",
    "    [\n",
    "        Destination(\n",
    "            party=Party(bdp='BD00000006O3', bic='BBACLBBXXXX', name='BBAC SAL', countryCode='LB', countryName='LEBANON', city='BEIRUT'),\n",
    "            accounts=['0001736803002', 'USD 0001 796306-001', '0001 784202 001'],\n",
    "        ),\n",
    "        Destination(\n",
    "            party=Party(bdp='BD0000000HUQ', bic='BSHROMRUXXX', name='SOHAR INTERNATIONAL BANK S.A.O.G', countryCode='OM', countryName='OMAN', city='MUSCAT'),\n",
    "            accounts=['001020088035', '001020088026', '001020087896', '001020097024', '1020038836', '001020068518', '001020035404', '001020058867', '001020074120', '1020058867', '001020092560', '001020093392', '001020076775'],\n",
    "        ),\n",
    "    ],\n",
    "    r._client_destinations(),\n",
    ")"
   ]
  },
  {
   "cell_type": "code",
   "execution_count": 8,
   "metadata": {},
   "outputs": [
    {
     "data": {
      "text/plain": [
       "True"
      ]
     },
     "execution_count": 8,
     "metadata": {},
     "output_type": "execute_result"
    }
   ],
   "source": [
    "assert_equals(\n",
    "    [\n",
    "        'ANYY',\n",
    "        'WHLS',\n",
    "        'COPA',\n",
    "        'TREA',\n",
    "        'FOEX',\n",
    "        'NDLF',\n",
    "        'OPTI',\n",
    "        'DERI',\n",
    "        'MMKT',\n",
    "        'LOAN',\n",
    "        'SECU',\n",
    "        'COLL',\n",
    "        'GUAR',\n",
    "        'COMM',\n",
    "        'LETT',\n",
    "        'TFIN',\n",
    "        'DOCC',\n",
    "        'CASH',\n",
    "    ],\n",
    "    r._asset_categories(),\n",
    ")"
   ]
  },
  {
   "cell_type": "code",
   "execution_count": 9,
   "metadata": {},
   "outputs": [
    {
     "data": {
      "text/plain": [
       "True"
      ]
     },
     "execution_count": 9,
     "metadata": {},
     "output_type": "execute_result"
    }
   ],
   "source": [
    "assert_equals(\n",
    "    StaticData(\n",
    "        origins = [\n",
    "            Party(bdp='BD0000001QJP', bic='RZOOAT2L455', name='Raiffeisenbank Region Schaerding eGen', countryCode='AT', countryName='AUSTRIA', city='Schaerding'),\n",
    "            Party(bdp='BD000000RYHO', bic='BINHCN2NXXX', name='NINGBO COMMERCE BANK', countryCode='CN', countryName='CHINA', city='NINGBO'),\n",
    "            Party(bdp='BD0000001H96', bic='NOLADE21STK', name='KREISSPARKASSE STADE', countryCode='DE', countryName='GERMANY', city='STADE'),\n",
    "            Party(bdp='BD0000000CD2', bic='BNPADZALXXX', name='BNP PARIBAS EL DJAZAIR', countryCode='DZ', countryName='ALGERIA', city='ALGIERS'),\n",
    "            Party(bdp='BD000000EVYD', bic='HNBKTWTP601', name='HUA NAN COMMERCIAL BANK, LTD.', countryCode='TW', countryName='TAIWAN', city='CHAI YI'),\n",
    "        ],\n",
    "        destinations = [\n",
    "            Destination(\n",
    "                party=Party(bdp='BD00000006O3', bic='BBACLBBXXXX', name='BBAC SAL', countryCode='LB', countryName='LEBANON', city='BEIRUT'),\n",
    "                accounts=['0001736803002', 'USD 0001 796306-001', '0001 784202 001'],\n",
    "            ),\n",
    "            Destination(\n",
    "                party=Party(bdp='BD0000000HUQ', bic='BSHROMRUXXX', name='SOHAR INTERNATIONAL BANK S.A.O.G', countryCode='OM', countryName='OMAN', city='MUSCAT'),\n",
    "                accounts=['001020088035', '001020088026', '001020087896', '001020097024', '1020038836', '001020068518', '001020035404', '001020058867', '001020074120', '1020058867', '001020092560', '001020093392', '001020076775'],\n",
    "            ),\n",
    "        ],\n",
    "        assetCategories=['ANYY', 'WHLS', 'COPA', 'TREA', 'FOEX', 'NDLF', 'OPTI', 'DERI', 'MMKT', 'LOAN', 'SECU', 'COLL', 'GUAR', 'COMM', 'LETT', 'TFIN', 'DOCC', 'CASH'],\n",
    "    ),\n",
    "    r.staticData(),\n",
    ")"
   ]
  },
  {
   "cell_type": "code",
   "execution_count": 10,
   "metadata": {},
   "outputs": [
    {
     "data": {
      "text/plain": [
       "True"
      ]
     },
     "execution_count": 10,
     "metadata": {},
     "output_type": "execute_result"
    }
   ],
   "source": [
    "assert_equals(\n",
    "    [\n",
    "        Payment(originBic='BD000000RYHO', destinationBic='BD0000000HUQ', assetCategory='DERI', currency='CHF', amount=2128525),\n",
    "        Payment(originBic='BD0000001QJP', destinationBic='BD0000000HUQ', assetCategory='GUAR', currency='NZD', amount=343442),\n",
    "        Payment(originBic='BD000000EVYD', destinationBic='BD00000006O3', assetCategory='LOAN', currency='EUR', amount=1374073),\n",
    "        Payment(originBic='BD0000001QJP', destinationBic='BD0000000HUQ', assetCategory='DOCC', currency='JPY', amount=350662),\n",
    "        Payment(originBic='BD0000001H96', destinationBic='BD0000000HUQ', assetCategory='COMM', currency='NZD', amount=652946),\n",
    "        Payment(originBic='BD0000001H96', destinationBic='BD00000005G6', assetCategory='FOEX', currency='GBP', amount=1216130),\n",
    "        Payment(originBic='BD000000EVYD', destinationBic='BD00000005G6', assetCategory='COPA', currency='EUR', amount=780335),\n",
    "        Payment(originBic='BD000000EVYD', destinationBic='BD00000006O3', assetCategory='TREA', currency='CHF', amount=779841),\n",
    "        Payment(originBic='BD000000EVYD', destinationBic='BD0000000HUQ', assetCategory='LOAN', currency='CHF', amount=978510),\n",
    "        Payment(originBic='BD000000RYHO', destinationBic='BD00000005G6', assetCategory='SECU', currency='NZD', amount=1459874),\n",
    "    ],\n",
    "    r.payments(),\n",
    ")"
   ]
  },
  {
   "cell_type": "code",
   "execution_count": 13,
   "metadata": {},
   "outputs": [
    {
     "data": {
      "text/plain": [
       "True"
      ]
     },
     "execution_count": 13,
     "metadata": {},
     "output_type": "execute_result"
    }
   ],
   "source": [
    "g = TemporaryGenerator()\n",
    "pmt = g.generate_payment()\n",
    "assert_equals(\n",
    "    Route(\n",
    "        originalPayment=Payment(originBic='BD_CLIENT_Z2', destinationBic='BD00000005G6', assetCategory='DERI', currency='AUD', amount=3612529),\n",
    "        hops=[\n",
    "            Hop(source='BD_CLIENT_Z2', target='BD0000000CD2', \n",
    "                payment=Payment(originBic='BD_CLIENT_Z2', destinationBic='BD0000000CD2', assetCategory='DERI', currency='USD', amount=8677240), \n",
    "                fxRate=2.40234609000285, timeTakenMinutes=693, crossBorder=True, charge=543), \n",
    "            Hop(source='BD0000000CD2', target='BD0000001Y1B', \n",
    "                payment=Payment(originBic='BD0000000CD2', destinationBic='BD0000001Y1B', assetCategory='DERI', currency='CHF', amount=3514384), \n",
    "                fxRate=0.9731305537256456, timeTakenMinutes=1897, crossBorder=True, charge=1108), \n",
    "            Hop(source='BD0000001Y1B', target='BD0000000L5T', \n",
    "                payment=Payment(originBic='BD0000001Y1B', destinationBic='BD0000000L5T', assetCategory='DERI', currency='CHF', amount=6782627), \n",
    "                fxRate=1.8776255361186642, timeTakenMinutes=1697, crossBorder=True, charge=186), \n",
    "            Hop(source='BD0000000L5T', target='BD00000005G6', \n",
    "                payment=Payment(originBic='BD0000000L5T', destinationBic='BD00000005G6', assetCategory='DERI', currency='GBP', amount=8235835), \n",
    "                fxRate=2.2804016207635724, timeTakenMinutes=325, crossBorder=True, charge=957)\n",
    "        ], risk='LO', totalFee=2794, totalTimeMinutes=4612, success = True\n",
    "    ),\n",
    "    g.generate_route(\n",
    "        pmt,\n",
    "        r._d.with_client_ssi_nx,\n",
    "        pmt.originBic,\n",
    "        pmt.destinationBic\n",
    "    )\n",
    ")"
   ]
  },
  {
   "cell_type": "markdown",
   "metadata": {},
   "source": [
    "### Generator"
   ]
  },
  {
   "cell_type": "code",
   "execution_count": 14,
   "metadata": {},
   "outputs": [],
   "source": [
    "rnd = random.Random(100500)"
   ]
  },
  {
   "cell_type": "code",
   "execution_count": 15,
   "metadata": {},
   "outputs": [],
   "source": [
    "g = TemporaryGenerator()"
   ]
  },
  {
   "cell_type": "code",
   "execution_count": 16,
   "metadata": {},
   "outputs": [],
   "source": [
    "pmt = g.generate_payment()"
   ]
  },
  {
   "cell_type": "code",
   "execution_count": null,
   "metadata": {},
   "outputs": [],
   "source": []
  },
  {
   "cell_type": "code",
   "execution_count": 17,
   "metadata": {},
   "outputs": [],
   "source": []
  },
  {
   "cell_type": "code",
   "execution_count": 24,
   "metadata": {},
   "outputs": [],
   "source": []
  },
  {
   "cell_type": "code",
   "execution_count": 18,
   "metadata": {},
   "outputs": [
    {
     "data": {
      "text/plain": [
       "[Payment(originBic='BD000000RYHO', destinationBic='BD0000000HUQ', assetCategory='DERI', currency='CHF', amount=2128525),\n",
       " Payment(originBic='BD0000001QJP', destinationBic='BD0000000HUQ', assetCategory='GUAR', currency='NZD', amount=343442),\n",
       " Payment(originBic='BD000000EVYD', destinationBic='BD00000006O3', assetCategory='LOAN', currency='EUR', amount=1374073),\n",
       " Payment(originBic='BD0000001QJP', destinationBic='BD0000000HUQ', assetCategory='DOCC', currency='JPY', amount=350662),\n",
       " Payment(originBic='BD0000001H96', destinationBic='BD0000000HUQ', assetCategory='COMM', currency='NZD', amount=652946),\n",
       " Payment(originBic='BD0000001H96', destinationBic='BD00000005G6', assetCategory='FOEX', currency='GBP', amount=1216130),\n",
       " Payment(originBic='BD000000EVYD', destinationBic='BD00000005G6', assetCategory='COPA', currency='EUR', amount=780335),\n",
       " Payment(originBic='BD000000EVYD', destinationBic='BD00000006O3', assetCategory='TREA', currency='CHF', amount=779841),\n",
       " Payment(originBic='BD000000EVYD', destinationBic='BD0000000HUQ', assetCategory='LOAN', currency='CHF', amount=978510),\n",
       " Payment(originBic='BD000000RYHO', destinationBic='BD00000005G6', assetCategory='SECU', currency='NZD', amount=1459874)]"
      ]
     },
     "execution_count": 18,
     "metadata": {},
     "output_type": "execute_result"
    }
   ],
   "source": [
    "payments"
   ]
  },
  {
   "cell_type": "code",
   "execution_count": 66,
   "metadata": {},
   "outputs": [],
   "source": [
    "payments = r._d.payments_history\n",
    "routes = r._d.routes_history"
   ]
  },
  {
   "cell_type": "code",
   "execution_count": 67,
   "metadata": {},
   "outputs": [],
   "source": [
    "total_volume = sum([payment.amount for payment in payments])\n",
    "average_time_minutes = sum([route.totalTimeMinutes for route in routes]) / len(routes)\n",
    "pct_failures = sum([1 for route in routes if not route.success]) / len(routes)"
   ]
  },
  {
   "cell_type": "code",
   "execution_count": 68,
   "metadata": {},
   "outputs": [
    {
     "data": {
      "text/plain": [
       "(10064338, 2598.0, 0.1)"
      ]
     },
     "execution_count": 68,
     "metadata": {},
     "output_type": "execute_result"
    }
   ],
   "source": [
    "total_volume, average_time_minutes, pct_failures"
   ]
  },
  {
   "cell_type": "code",
   "execution_count": 56,
   "metadata": {},
   "outputs": [],
   "source": []
  },
  {
   "cell_type": "code",
   "execution_count": 64,
   "metadata": {},
   "outputs": [
    {
     "data": {
      "text/plain": [
       "array([MapEdge(sourceCity='CHAI YI', targetCity='BEIRUT', weight=2153914),\n",
       "       MapEdge(sourceCity='CHAI YI', targetCity='MANAMA', weight=780335),\n",
       "       MapEdge(sourceCity='CHAI YI', targetCity='MUSCAT', weight=978510),\n",
       "       MapEdge(sourceCity='NINGBO', targetCity='MANAMA', weight=1459874),\n",
       "       MapEdge(sourceCity='NINGBO', targetCity='MUSCAT', weight=2128525),\n",
       "       MapEdge(sourceCity='STADE', targetCity='MANAMA', weight=1216130),\n",
       "       MapEdge(sourceCity='STADE', targetCity='MUSCAT', weight=652946),\n",
       "       MapEdge(sourceCity='Schaerding', targetCity='MUSCAT', weight=694104)], dtype=object)"
      ]
     },
     "execution_count": 64,
     "metadata": {},
     "output_type": "execute_result"
    }
   ],
   "source": [
    "source_cities = [ party.city for party in \n",
    "    [ r._parties_by_bdps([payment.originBic])[0] for payment in payments ]\n",
    "]\n",
    "target_cities = [ party.city for party in \n",
    "    [ r._parties_by_bdps([payment.destinationBic])[0] for payment in payments ]\n",
    "]\n",
    "weights = [ route.originalPayment.amount for route in routes ]\n",
    "\n",
    "pd.DataFrame.from_records(\n",
    "    zip(source_cities, target_cities, weights),\n",
    "    columns = [ 'source_city', 'target_city', 'weight' ]\n",
    ").groupby([ 'source_city', 'target_city' ]).sum().reset_index().apply(\n",
    "    lambda x: MapEdge(x['source_city'], x['target_city'], x['weight']),\n",
    "    axis = 1\n",
    ").values"
   ]
  },
  {
   "cell_type": "code",
   "execution_count": null,
   "metadata": {},
   "outputs": [],
   "source": []
  },
  {
   "cell_type": "code",
   "execution_count": 69,
   "metadata": {},
   "outputs": [],
   "source": [
    "source_bdps = [ party.bdp for party in \n",
    "    [ r._parties_by_bdps([payment.originBic])[0] for payment in payments ]\n",
    "]\n",
    "target_bdps = [ party.bdp for party in \n",
    "    [ r._parties_by_bdps([payment.destinationBic])[0] for payment in payments ]\n",
    "]"
   ]
  },
  {
   "cell_type": "code",
   "execution_count": 70,
   "metadata": {},
   "outputs": [
    {
     "data": {
      "text/html": [
       "<div>\n",
       "<style scoped>\n",
       "    .dataframe tbody tr th:only-of-type {\n",
       "        vertical-align: middle;\n",
       "    }\n",
       "\n",
       "    .dataframe tbody tr th {\n",
       "        vertical-align: top;\n",
       "    }\n",
       "\n",
       "    .dataframe thead th {\n",
       "        text-align: right;\n",
       "    }\n",
       "</style>\n",
       "<table border=\"1\" class=\"dataframe\">\n",
       "  <thead>\n",
       "    <tr style=\"text-align: right;\">\n",
       "      <th></th>\n",
       "      <th>source_bdp</th>\n",
       "      <th>target_bdp</th>\n",
       "    </tr>\n",
       "  </thead>\n",
       "  <tbody>\n",
       "    <tr>\n",
       "      <th>0</th>\n",
       "      <td>BD000000RYHO</td>\n",
       "      <td>BD0000000HUQ</td>\n",
       "    </tr>\n",
       "    <tr>\n",
       "      <th>1</th>\n",
       "      <td>BD0000001QJP</td>\n",
       "      <td>BD0000000HUQ</td>\n",
       "    </tr>\n",
       "    <tr>\n",
       "      <th>2</th>\n",
       "      <td>BD000000EVYD</td>\n",
       "      <td>BD00000006O3</td>\n",
       "    </tr>\n",
       "    <tr>\n",
       "      <th>4</th>\n",
       "      <td>BD0000001H96</td>\n",
       "      <td>BD0000000HUQ</td>\n",
       "    </tr>\n",
       "    <tr>\n",
       "      <th>5</th>\n",
       "      <td>BD0000001H96</td>\n",
       "      <td>BD00000005G6</td>\n",
       "    </tr>\n",
       "    <tr>\n",
       "      <th>6</th>\n",
       "      <td>BD000000EVYD</td>\n",
       "      <td>BD00000005G6</td>\n",
       "    </tr>\n",
       "    <tr>\n",
       "      <th>8</th>\n",
       "      <td>BD000000EVYD</td>\n",
       "      <td>BD0000000HUQ</td>\n",
       "    </tr>\n",
       "    <tr>\n",
       "      <th>9</th>\n",
       "      <td>BD000000RYHO</td>\n",
       "      <td>BD00000005G6</td>\n",
       "    </tr>\n",
       "  </tbody>\n",
       "</table>\n",
       "</div>"
      ],
      "text/plain": [
       "     source_bdp    target_bdp\n",
       "0  BD000000RYHO  BD0000000HUQ\n",
       "1  BD0000001QJP  BD0000000HUQ\n",
       "2  BD000000EVYD  BD00000006O3\n",
       "4  BD0000001H96  BD0000000HUQ\n",
       "5  BD0000001H96  BD00000005G6\n",
       "6  BD000000EVYD  BD00000005G6\n",
       "8  BD000000EVYD  BD0000000HUQ\n",
       "9  BD000000RYHO  BD00000005G6"
      ]
     },
     "execution_count": 70,
     "metadata": {},
     "output_type": "execute_result"
    }
   ],
   "source": [
    "pd.DataFrame.from_records(\n",
    "    zip(source_bdps, target_bdps),\n",
    "    columns = [ 'source_bdp', 'target_bdp' ]\n",
    ").drop_duplicates()"
   ]
  },
  {
   "cell_type": "code",
   "execution_count": 75,
   "metadata": {},
   "outputs": [
    {
     "data": {
      "text/html": [
       "<div>\n",
       "<style scoped>\n",
       "    .dataframe tbody tr th:only-of-type {\n",
       "        vertical-align: middle;\n",
       "    }\n",
       "\n",
       "    .dataframe tbody tr th {\n",
       "        vertical-align: top;\n",
       "    }\n",
       "\n",
       "    .dataframe thead th {\n",
       "        text-align: right;\n",
       "    }\n",
       "</style>\n",
       "<table border=\"1\" class=\"dataframe\">\n",
       "  <thead>\n",
       "    <tr style=\"text-align: right;\">\n",
       "      <th></th>\n",
       "      <th>source_bdp</th>\n",
       "      <th>target_bdp</th>\n",
       "      <th>total_amount</th>\n",
       "    </tr>\n",
       "  </thead>\n",
       "  <tbody>\n",
       "    <tr>\n",
       "      <th>0</th>\n",
       "      <td>BD0000001H96</td>\n",
       "      <td>BD00000005G6</td>\n",
       "      <td>1216130</td>\n",
       "    </tr>\n",
       "    <tr>\n",
       "      <th>1</th>\n",
       "      <td>BD0000001H96</td>\n",
       "      <td>BD0000000HUQ</td>\n",
       "      <td>652946</td>\n",
       "    </tr>\n",
       "    <tr>\n",
       "      <th>2</th>\n",
       "      <td>BD0000001QJP</td>\n",
       "      <td>BD0000000HUQ</td>\n",
       "      <td>694104</td>\n",
       "    </tr>\n",
       "    <tr>\n",
       "      <th>3</th>\n",
       "      <td>BD000000EVYD</td>\n",
       "      <td>BD00000005G6</td>\n",
       "      <td>780335</td>\n",
       "    </tr>\n",
       "    <tr>\n",
       "      <th>4</th>\n",
       "      <td>BD000000EVYD</td>\n",
       "      <td>BD00000006O3</td>\n",
       "      <td>2153914</td>\n",
       "    </tr>\n",
       "    <tr>\n",
       "      <th>5</th>\n",
       "      <td>BD000000EVYD</td>\n",
       "      <td>BD0000000HUQ</td>\n",
       "      <td>978510</td>\n",
       "    </tr>\n",
       "    <tr>\n",
       "      <th>6</th>\n",
       "      <td>BD000000RYHO</td>\n",
       "      <td>BD00000005G6</td>\n",
       "      <td>1459874</td>\n",
       "    </tr>\n",
       "    <tr>\n",
       "      <th>7</th>\n",
       "      <td>BD000000RYHO</td>\n",
       "      <td>BD0000000HUQ</td>\n",
       "      <td>2128525</td>\n",
       "    </tr>\n",
       "  </tbody>\n",
       "</table>\n",
       "</div>"
      ],
      "text/plain": [
       "     source_bdp    target_bdp  total_amount\n",
       "0  BD0000001H96  BD00000005G6       1216130\n",
       "1  BD0000001H96  BD0000000HUQ        652946\n",
       "2  BD0000001QJP  BD0000000HUQ        694104\n",
       "3  BD000000EVYD  BD00000005G6        780335\n",
       "4  BD000000EVYD  BD00000006O3       2153914\n",
       "5  BD000000EVYD  BD0000000HUQ        978510\n",
       "6  BD000000RYHO  BD00000005G6       1459874\n",
       "7  BD000000RYHO  BD0000000HUQ       2128525"
      ]
     },
     "execution_count": 75,
     "metadata": {},
     "output_type": "execute_result"
    }
   ],
   "source": []
  },
  {
   "cell_type": "code",
   "execution_count": 106,
   "metadata": {},
   "outputs": [
    {
     "data": {
      "text/plain": [
       "array([ Opportunity(source=Party(bdp='BD0000001H96', bic='NOLADE21STK', name='KREISSPARKASSE STADE', countryCode='DE', countryName='GERMANY', city='STADE'), target=Party(bdp='BD00000005G6', bic='BAHLBHBMXXX', name='BANK AL HABIB LIMITED', countryCode='BH', countryName='BAHRAIN', city='MANAMA'), summary=Summary(totalVolume=1216130, averageTimeMinutes=1948.0, pctFailures=0.0)),\n",
       "       Opportunity(source=Party(bdp='BD0000001H96', bic='NOLADE21STK', name='KREISSPARKASSE STADE', countryCode='DE', countryName='GERMANY', city='STADE'), target=Party(bdp='BD0000000HUQ', bic='BSHROMRUXXX', name='SOHAR INTERNATIONAL BANK S.A.O.G', countryCode='OM', countryName='OMAN', city='MUSCAT'), summary=Summary(totalVolume=652946, averageTimeMinutes=4056.0, pctFailures=100.0)),\n",
       "       Opportunity(source=Party(bdp='BD0000001QJP', bic='RZOOAT2L455', name='Raiffeisenbank Region Schaerding eGen', countryCode='AT', countryName='AUSTRIA', city='Schaerding'), target=Party(bdp='BD0000000HUQ', bic='BSHROMRUXXX', name='SOHAR INTERNATIONAL BANK S.A.O.G', countryCode='OM', countryName='OMAN', city='MUSCAT'), summary=Summary(totalVolume=694104, averageTimeMinutes=2501.5, pctFailures=0.0)),\n",
       "       Opportunity(source=Party(bdp='BD000000EVYD', bic='HNBKTWTP601', name='HUA NAN COMMERCIAL BANK, LTD.', countryCode='TW', countryName='TAIWAN', city='CHAI YI'), target=Party(bdp='BD00000005G6', bic='BAHLBHBMXXX', name='BANK AL HABIB LIMITED', countryCode='BH', countryName='BAHRAIN', city='MANAMA'), summary=Summary(totalVolume=780335, averageTimeMinutes=3803.0, pctFailures=0.0)),\n",
       "       Opportunity(source=Party(bdp='BD000000EVYD', bic='HNBKTWTP601', name='HUA NAN COMMERCIAL BANK, LTD.', countryCode='TW', countryName='TAIWAN', city='CHAI YI'), target=Party(bdp='BD00000006O3', bic='BBACLBBXXXX', name='BBAC SAL', countryCode='LB', countryName='LEBANON', city='BEIRUT'), summary=Summary(totalVolume=2153914, averageTimeMinutes=1605.0, pctFailures=0.0)),\n",
       "       Opportunity(source=Party(bdp='BD000000EVYD', bic='HNBKTWTP601', name='HUA NAN COMMERCIAL BANK, LTD.', countryCode='TW', countryName='TAIWAN', city='CHAI YI'), target=Party(bdp='BD0000000HUQ', bic='BSHROMRUXXX', name='SOHAR INTERNATIONAL BANK S.A.O.G', countryCode='OM', countryName='OMAN', city='MUSCAT'), summary=Summary(totalVolume=978510, averageTimeMinutes=2791.0, pctFailures=0.0)),\n",
       "       Opportunity(source=Party(bdp='BD000000RYHO', bic='BINHCN2NXXX', name='NINGBO COMMERCE BANK', countryCode='CN', countryName='CHINA', city='NINGBO'), target=Party(bdp='BD00000005G6', bic='BAHLBHBMXXX', name='BANK AL HABIB LIMITED', countryCode='BH', countryName='BAHRAIN', city='MANAMA'), summary=Summary(totalVolume=1459874, averageTimeMinutes=2489.0, pctFailures=0.0)),\n",
       "       Opportunity(source=Party(bdp='BD000000RYHO', bic='BINHCN2NXXX', name='NINGBO COMMERCE BANK', countryCode='CN', countryName='CHINA', city='NINGBO'), target=Party(bdp='BD0000000HUQ', bic='BSHROMRUXXX', name='SOHAR INTERNATIONAL BANK S.A.O.G', countryCode='OM', countryName='OMAN', city='MUSCAT'), summary=Summary(totalVolume=2128525, averageTimeMinutes=2680.0, pctFailures=0.0))], dtype=object)"
      ]
     },
     "execution_count": 106,
     "metadata": {},
     "output_type": "execute_result"
    }
   ],
   "source": [
    "opportunities = pd.DataFrame.from_records(\n",
    "    [ (route.originalPayment.originBic, route.originalPayment.destinationBic, \n",
    "       route.totalTimeMinutes, route.success\n",
    "      ) for route in routes ],\n",
    "    columns = [ 'source_bdp', 'target_bdp', 'time_minutes', 'success' ]\n",
    ").assign(\n",
    "    failure = lambda x: np.where(x['success'], 0.0, 1.0)\n",
    ").groupby([ 'source_bdp', 'target_bdp' ]).agg({\n",
    "    'time_minutes' : [('average_time_minutes', 'mean')],\n",
    "    'failure' : [\n",
    "         ('total_failures', 'sum'),\n",
    "         ('count_failures', 'count')\n",
    "    ],\n",
    "}).reset_index()\n",
    "opportunities.columns = [\n",
    "    'source_bdp', 'target_bdp', 'average_time_minutes', 'total_failures', 'count_failures'\n",
    "]\n",
    "opportunities = tmp.assign(\n",
    "    pct_failures = lambda x: x['total_failures'] / x['count_failures'] * 100\n",
    ")\n",
    "opportunities.merge(\n",
    "    pd.DataFrame.from_records(\n",
    "        [ (payment.originBic, payment.destinationBic, payment.amount) for payment in payments ],\n",
    "        columns = [ 'source_bdp', 'target_bdp', 'total_amount' ]\n",
    "    ).groupby([ 'source_bdp', 'target_bdp' ]).sum().reset_index(),\n",
    "    on = ('source_bdp', 'target_bdp')\n",
    ")[[\n",
    "    'source_bdp', 'target_bdp', 'total_amount', 'average_time_minutes', 'pct_failures'\n",
    "]].apply(\n",
    "    lambda x: Opportunity(\n",
    "        r._parties_by_bdps([x['source_bdp']])[0],\n",
    "        r._parties_by_bdps([x['target_bdp']])[0],\n",
    "        Summary(\n",
    "            x['total_amount'],\n",
    "            x['average_time_minutes'],\n",
    "            x['pct_failures'],\n",
    "        )\n",
    "    ),\n",
    "    axis = 1\n",
    ").values"
   ]
  },
  {
   "cell_type": "code",
   "execution_count": null,
   "metadata": {},
   "outputs": [],
   "source": [
    "total_volume = sum([payment.amount for payment in payments])\n",
    "average_time_minutes = sum([route.totalTimeMinutes for route in routes]) / len(routes)\n",
    "pct_failures = sum([1 for route in routes if not route.success]) / len(routes)"
   ]
  },
  {
   "cell_type": "code",
   "execution_count": 109,
   "metadata": {},
   "outputs": [
    {
     "data": {
      "text/plain": [
       "[1, 2]"
      ]
     },
     "execution_count": 109,
     "metadata": {},
     "output_type": "execute_result"
    }
   ],
   "source": [
    "[1, 2][0:3]"
   ]
  },
  {
   "cell_type": "code",
   "execution_count": 116,
   "metadata": {},
   "outputs": [],
   "source": [
    "def log(*args):\n",
    "    print(*list(map(str, args)))\n",
    "\n"
   ]
  },
  {
   "cell_type": "code",
   "execution_count": 117,
   "metadata": {},
   "outputs": [
    {
     "name": "stdout",
     "output_type": "stream",
     "text": [
      "1 2 3\n"
     ]
    }
   ],
   "source": [
    "log(1, 2, 3)"
   ]
  },
  {
   "cell_type": "code",
   "execution_count": 119,
   "metadata": {},
   "outputs": [
    {
     "data": {
      "text/plain": [
       "{0: 'a', 1: 'a', 2: 'a'}"
      ]
     },
     "execution_count": 119,
     "metadata": {},
     "output_type": "execute_result"
    }
   ],
   "source": [
    "{ i : 'a' for i in range(3) } "
   ]
  },
  {
   "cell_type": "code",
   "execution_count": null,
   "metadata": {},
   "outputs": [],
   "source": []
  }
 ],
 "metadata": {
  "kernelspec": {
   "display_name": "Python 3",
   "language": "python",
   "name": "python3"
  },
  "language_info": {
   "codemirror_mode": {
    "name": "ipython",
    "version": 3
   },
   "file_extension": ".py",
   "mimetype": "text/x-python",
   "name": "python",
   "nbconvert_exporter": "python",
   "pygments_lexer": "ipython3",
   "version": "3.6.7"
  }
 },
 "nbformat": 4,
 "nbformat_minor": 2
}
